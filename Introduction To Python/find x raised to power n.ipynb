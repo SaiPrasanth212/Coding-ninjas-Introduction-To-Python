X = int(input())
N = int(input())
P = int(X**N)
print(P)
